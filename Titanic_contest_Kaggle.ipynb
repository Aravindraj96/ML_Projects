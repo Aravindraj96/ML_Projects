{
  "nbformat": 4,
  "nbformat_minor": 0,
  "metadata": {
    "colab": {
      "name": "Titanic_contest_Kaggle.ipynb",
      "provenance": [],
      "collapsed_sections": [],
      "mount_file_id": "1CQlHWs5Xg_p1zSuqHpZrSXkx5parIpdH",
      "authorship_tag": "ABX9TyOpDSTd43QObNmgg4EdQ3ns",
      "include_colab_link": true
    },
    "kernelspec": {
      "name": "python3",
      "display_name": "Python 3"
    },
    "language_info": {
      "name": "python"
    }
  },
  "cells": [
    {
      "cell_type": "markdown",
      "metadata": {
        "id": "view-in-github",
        "colab_type": "text"
      },
      "source": [
        "<a href=\"https://colab.research.google.com/github/Aravindraj27/ML_Projects/blob/main/Titanic_contest_Kaggle.ipynb\" target=\"_parent\"><img src=\"https://colab.research.google.com/assets/colab-badge.svg\" alt=\"Open In Colab\"/></a>"
      ]
    },
    {
      "cell_type": "markdown",
      "metadata": {
        "id": "r59HHK2tJ_8T"
      },
      "source": [
        "###Import Tensor Flow \n",
        "The Below code is used to specify the version of tensor flow we want to use for the project. This is required especially in a notebook since in the IDEs we can create a virtual environment that hasour required version or manually set the version in the GUI"
      ]
    },
    {
      "cell_type": "code",
      "metadata": {
        "id": "UP_Z_AJKIuP4"
      },
      "source": [
        "%tensorflow_version 2.x"
      ],
      "execution_count": null,
      "outputs": []
    },
    {
      "cell_type": "code",
      "metadata": {
        "colab": {
          "base_uri": "https://localhost:8080/"
        },
        "id": "lESJ2zlhK19A",
        "outputId": "349eb2b4-c7d3-4493-c4b8-9bfa48dfb756"
      },
      "source": [
        "import tensorflow as tf\n",
        "print(tf.version)"
      ],
      "execution_count": null,
      "outputs": [
        {
          "output_type": "stream",
          "text": [
            "<module 'tensorflow._api.v2.version' from '/usr/local/lib/python3.7/dist-packages/tensorflow/_api/v2/version/__init__.py'>\n"
          ],
          "name": "stdout"
        }
      ]
    },
    {
      "cell_type": "markdown",
      "metadata": {
        "id": "w8imRm2FQjA7"
      },
      "source": [
        "##Tensors \n",
        "\"A tensor is a generalization of vectors and matrices to potentially higher dimensions. Internally, TensorFlow represents tensors as n-dimensional arrays of base datatypes.\" (https://www.tensorflow.org/guide/tensor)\n",
        "\n",
        "It should't surprise you that tensors are a fundemental apsect of TensorFlow. They are the main objects that are passed around and manipluated throughout the program. Each tensor represents a partialy defined computation that will eventually produce a value. TensorFlow programs work by building a graph of Tensor objects that details how tensors are related. Running different parts of the graph allow results to be generated.\n",
        "\n",
        "Each tensor has a data type and a shape. \n",
        "\n",
        "**Data Types Include**: float32, int32, string and others.\n",
        "\n",
        "**Shape**: Represents the dimension of data.\n",
        "\n",
        "Just like vectors and matrices tensors can have operations applied to them like addition, subtraction, dot product, cross product etc.\n",
        "\n",
        "In the next sections we will discuss some different properties of tensors. This is to make you more familiar with how tensorflow represnts data and how you can manipulate this data."
      ]
    },
    {
      "cell_type": "code",
      "metadata": {
        "id": "oMb4iSB9cqt-"
      },
      "source": [
        "# Rank 0 - Scalar values\n",
        "string = tf.Variable(\"Bulgogi\",tf.string)\n",
        "integer = tf.Variable(365, tf.int16)\n",
        "flt = tf.Variable(3.14159, tf.float64)"
      ],
      "execution_count": null,
      "outputs": []
    },
    {
      "cell_type": "markdown",
      "metadata": {
        "id": "5Jcfb2YqdxyS"
      },
      "source": [
        "###Rank/Degree of a Tensor\n",
        "- It is simply the number of dimensions of a tensor\n",
        "- An **array with only one element** is considered to be a **rank one** where as the **above code is a rank 0** because **moving the array to a higher dimension will not cause any problem**\n",
        "- **tensorflow.rank(tensor_name)** is used to check the rank of a tensor."
      ]
    },
    {
      "cell_type": "code",
      "metadata": {
        "colab": {
          "base_uri": "https://localhost:8080/"
        },
        "id": "f-tO30YzfelY",
        "outputId": "5cdeafe0-47ca-4fe0-ef72-aed4a6175366"
      },
      "source": [
        "rank1_tensor = tf.Variable([\"Hello\",\"World\"],tf.string)\n",
        "rank2_tensor = tf.Variable([[1,2,4],[3,4,6]],tf.int16)\n",
        "# Checking the rank of a tensor\n",
        "print(tf.rank(rank1_tensor))\n",
        "print(tf.rank(rank2_tensor))"
      ],
      "execution_count": null,
      "outputs": [
        {
          "output_type": "stream",
          "text": [
            "tf.Tensor(1, shape=(), dtype=int32)\n",
            "tf.Tensor(2, shape=(), dtype=int32)\n"
          ],
          "name": "stdout"
        }
      ]
    },
    {
      "cell_type": "markdown",
      "metadata": {
        "id": "23TNi0hQhDqx"
      },
      "source": [
        "### Shape of a Tensor\n",
        "- This is the **amount of elemnts present in each dimension** of a tensor\n",
        "- Tensor flow always tries to calculate the shape of the tensor but sometimes its unknown\n",
        "- **.shape()** is used to check the shape of the tensor"
      ]
    },
    {
      "cell_type": "code",
      "metadata": {
        "colab": {
          "base_uri": "https://localhost:8080/"
        },
        "id": "tyALJ14oh_ou",
        "outputId": "1946d290-34c8-4405-e54f-ccb43afd0441"
      },
      "source": [
        "print(rank1_tensor.shape)\n",
        "print(rank2_tensor.shape)\n"
      ],
      "execution_count": null,
      "outputs": [
        {
          "output_type": "stream",
          "text": [
            "(2,)\n",
            "(2, 3)\n"
          ],
          "name": "stdout"
        }
      ]
    },
    {
      "cell_type": "markdown",
      "metadata": {
        "id": "QWMN8cbgjdN_"
      },
      "source": [
        "###Changing the shape of a tensor\n",
        "- This is one of the major aspects of tensor flow and often performed procedure.\n",
        "- The number of elements in a tensor is calculated by multiplying the shape of the tensor.\n",
        "- Many shapes are possible for every given number of elements which makes it possible for us to change the shape of the matrix (i.e.) tensor.\n",
        "- **tensorflow.reshape(tensor,shape)** is used to reshape the matrix\n",
        "\n",
        "**Example :** \n",
        "\n",
        "a tensor with four elements can be of the shape(2,2) or (1,4) or (4,1)"
      ]
    },
    {
      "cell_type": "code",
      "metadata": {
        "colab": {
          "base_uri": "https://localhost:8080/"
        },
        "id": "yjvCBg6zkttL",
        "outputId": "0c7f30db-f3e0-4115-8525-e8e0595e6347"
      },
      "source": [
        "tensor1 = tf.ones([1,2,3],tf.int16) # Creates a matrix of dimension 1,2,3 (i.e.) 1 row, 2 lists in that row, 3 elements in each row\n",
        "print(tensor1)\n",
        "tensor2 = tf.reshape(tensor1, [2,3,1]) # Reshapes the tensor to 2,3,1 (i.e.) 2 rows, 3 lists in each row, 1 element in each list\n",
        "print (tensor2)\n",
        "tensor3 = tf.reshape(tensor1, [3,-1]) # here the -1 helps us to distribute the elemnts equally among 3 rows (i.e.) 3 rows and two elements in each row\n",
        "print(tensor3)"
      ],
      "execution_count": null,
      "outputs": [
        {
          "output_type": "stream",
          "text": [
            "tf.Tensor(\n",
            "[[[1 1 1]\n",
            "  [1 1 1]]], shape=(1, 2, 3), dtype=int16)\n",
            "tf.Tensor(\n",
            "[[[1]\n",
            "  [1]\n",
            "  [1]]\n",
            "\n",
            " [[1]\n",
            "  [1]\n",
            "  [1]]], shape=(2, 3, 1), dtype=int16)\n",
            "tf.Tensor(\n",
            "[[1 1]\n",
            " [1 1]\n",
            " [1 1]], shape=(3, 2), dtype=int16)\n"
          ],
          "name": "stdout"
        }
      ]
    },
    {
      "cell_type": "markdown",
      "metadata": {
        "id": "G8yfEuPrWoBW"
      },
      "source": [
        "### Types Of Tensor\n",
        "There are various types of tensors to name a few\n",
        "- Variable\n",
        "\n",
        "- Constant\n",
        "- Placeholder\n",
        "- Sparse tensors\n",
        "\n",
        "Except for **variables** all the other tensors are **immutable**"
      ]
    },
    {
      "cell_type": "markdown",
      "metadata": {
        "id": "l_Rxh_LiX7eH"
      },
      "source": [
        "###Evaluating a Tensor\n",
        "- Sometimes we need to evaluate the tensors meaning we need to get the value. \n",
        "- Since a tensor represents a partially coomplete computation we need to run a session to evaluate a tensor\n",
        "- .eval() is used to evaluate the tensor\n",
        "- Sample Code : A simple sample piece of code is given below"
      ]
    },
    {
      "cell_type": "code",
      "metadata": {
        "id": "FvBP5MsoeQd3"
      },
      "source": [
        "#with tf.compat.v1.Session() as session : # Creates a session with a default graph\n",
        "#  tensor1.eval()"
      ],
      "execution_count": null,
      "outputs": []
    },
    {
      "cell_type": "markdown",
      "metadata": {
        "id": "GB3QgEqwsQ3q"
      },
      "source": [
        "###Linear Regression\n",
        "\n",
        "This is a basic machine learning algorithm to predict numerical values like the stock price calculation, Housing price prediction, Wear and tear of any tool, etc.\n",
        "Here we are using it on the Titanic dataset to predict the survival percent of its passengers.\n",
        "###Hypothesis for the Linear Regression\n",
        "\n",
        "Hypothesis = X<sup>T</sup> $\\theta$\n",
        "\n",
        "- X = feature matrix\n",
        "- y = label vector\n",
        "- $\\theta$ = Coefficients vector\n",
        "\n",
        "A simple linear regression can be written in the following format\n",
        "\n",
        "Hypothesis = $\\theta$<sub>0</sub> + $\\theta$<sub>1</sub>x<sub>1</sub> which is a simple line equation and based on the cost function we can use various polynomial functions here to get a beteer fitting curve\n",
        "\n",
        "####Cost Function\n",
        "**Cost function** is the measure of accuracy of the hypothesis (i.e.) the distance between each point in the graph to the plotted line for linear regression. \n",
        "\n",
        "It uses the Squared error function to calculate the distance a\n",
        "We use the **cost function** inorder to find and the minimize the distance between the plotted points and the the line of linear regression. \n",
        "\n",
        "J =  $\\sum\\limits_{i=0}^m$ (h<sub>$\\theta$</sub>(x<sup>(i)</sup>) - y<sup>(i)</sup>)<sup>2</sup>\n",
        "\n",
        "The Cost function can be calculated by other different methods such as kullback divergence cross entropy loss functions based on the type of problem we are trying to solve\n",
        "\n",
        "For regression problems we generally use squared error or huber loss.\n",
        "\n",
        "The values of $\\theta$ can be found by doing a **Gradient Descent**."
      ]
    },
    {
      "cell_type": "code",
      "metadata": {
        "id": "KJLu-erBi4Vj"
      },
      "source": [
        "!pip install -q sklearn"
      ],
      "execution_count": null,
      "outputs": []
    },
    {
      "cell_type": "markdown",
      "metadata": {
        "id": "cqocIKutjOpe"
      },
      "source": [
        "###Import the libraries required to do Linear regression"
      ]
    },
    {
      "cell_type": "code",
      "metadata": {
        "id": "rmsPkQwJjWRI"
      },
      "source": [
        "from __future__ import absolute_import, division, print_function, unicode_literals\n",
        "import numpy as np\n",
        "import matplotlib.pyplot as plt\n",
        "import pandas as pd\n",
        "from IPython.display import clear_output\n",
        "import tensorflow as tf\n",
        "import tensorflow.compat.v2.feature_column as fc\n",
        "from six.moves import urllib"
      ],
      "execution_count": null,
      "outputs": []
    },
    {
      "cell_type": "markdown",
      "metadata": {
        "id": "Y323ha2wjVvM"
      },
      "source": [
        "###Import the data\n",
        "In this data set we could get a fair idea about the dataset, the columns and the data in the column. We have removed the Passenger ID since there is already a index that can be used on any specific data."
      ]
    },
    {
      "cell_type": "code",
      "metadata": {
        "colab": {
          "base_uri": "https://localhost:8080/"
        },
        "id": "Vh4F7D5ooSEw",
        "outputId": "b9867500-93b6-4adc-cb2e-e22909542798"
      },
      "source": [
        "dataframe = pd.read_csv('train.csv') \n",
        "trainset = pd.read_csv('train.csv')\n",
        "trainset.pop('PassengerId')\n",
        "print(trainset.head())\n",
        "print(trainset.describe())\n",
        "testset = pd.read_csv('test.csv')\n",
        "testset.pop('PassengerId')\n",
        "print(testset.head())\n",
        "print(testset.describe())\n",
        "y_train = trainset.pop('Survived')\n",
        "y_test = pd.read_csv('gender_submission.csv').pop('Survived')\n",
        "#trainset.Age.hist(bins=1000)"
      ],
      "execution_count": null,
      "outputs": [
        {
          "output_type": "stream",
          "text": [
            "   Survived  Pclass  ... Cabin Embarked\n",
            "0         0       3  ...   NaN        S\n",
            "1         1       1  ...   C85        C\n",
            "2         1       3  ...   NaN        S\n",
            "3         1       1  ...  C123        S\n",
            "4         0       3  ...   NaN        S\n",
            "\n",
            "[5 rows x 11 columns]\n",
            "         Survived      Pclass         Age       SibSp       Parch        Fare\n",
            "count  891.000000  891.000000  714.000000  891.000000  891.000000  891.000000\n",
            "mean     0.383838    2.308642   29.699118    0.523008    0.381594   32.204208\n",
            "std      0.486592    0.836071   14.526497    1.102743    0.806057   49.693429\n",
            "min      0.000000    1.000000    0.420000    0.000000    0.000000    0.000000\n",
            "25%      0.000000    2.000000   20.125000    0.000000    0.000000    7.910400\n",
            "50%      0.000000    3.000000   28.000000    0.000000    0.000000   14.454200\n",
            "75%      1.000000    3.000000   38.000000    1.000000    0.000000   31.000000\n",
            "max      1.000000    3.000000   80.000000    8.000000    6.000000  512.329200\n",
            "   Pclass                                          Name  ... Cabin  Embarked\n",
            "0       3                              Kelly, Mr. James  ...   NaN         Q\n",
            "1       3              Wilkes, Mrs. James (Ellen Needs)  ...   NaN         S\n",
            "2       2                     Myles, Mr. Thomas Francis  ...   NaN         Q\n",
            "3       3                              Wirz, Mr. Albert  ...   NaN         S\n",
            "4       3  Hirvonen, Mrs. Alexander (Helga E Lindqvist)  ...   NaN         S\n",
            "\n",
            "[5 rows x 10 columns]\n",
            "           Pclass         Age       SibSp       Parch        Fare\n",
            "count  418.000000  332.000000  418.000000  418.000000  417.000000\n",
            "mean     2.265550   30.272590    0.447368    0.392344   35.627188\n",
            "std      0.841838   14.181209    0.896760    0.981429   55.907576\n",
            "min      1.000000    0.170000    0.000000    0.000000    0.000000\n",
            "25%      1.000000   21.000000    0.000000    0.000000    7.895800\n",
            "50%      3.000000   27.000000    0.000000    0.000000   14.454200\n",
            "75%      3.000000   39.000000    1.000000    0.000000   31.500000\n",
            "max      3.000000   76.000000    8.000000    9.000000  512.329200\n"
          ],
          "name": "stdout"
        }
      ]
    },
    {
      "cell_type": "markdown",
      "metadata": {
        "id": "vr0_yG3C4xQS"
      },
      "source": [
        "###Histogram\n",
        "The Following section will contain an histogram to find the distribution of various columns among the passengers for the train set."
      ]
    },
    {
      "cell_type": "code",
      "metadata": {
        "colab": {
          "base_uri": "https://localhost:8080/",
          "height": 732
        },
        "id": "aPyY4kNY4v5l",
        "outputId": "f3283de8-11c3-46fc-ed46-954ee19da96f"
      },
      "source": [
        "# Age Distribution\n",
        "plt.figure(figsize=(15,7.5))\n",
        "plt.subplot(1,2,1)\n",
        "plt.hist(dataframe[dataframe.Survived == 1].Age, bins=20)\n",
        "plt.title(\"Age Distribution of the Survived passengers\")\n",
        "plt.xlabel(\"Age\")\n",
        "plt.ylabel(\"Head count\")\n",
        "plt.show()\n",
        "\n",
        "plt.figure(figsize=(15,7.5))\n",
        "plt.subplot(2,2,1)\n",
        "plt.hist(dataframe[dataframe.Survived == 0].Age, bins=20)\n",
        "plt.title(\"Age Distribution of the Died passengers\")\n",
        "plt.xlabel(\"Age\")\n",
        "plt.ylabel(\"Head count\")\n",
        "plt.show()"
      ],
      "execution_count": null,
      "outputs": [
        {
          "output_type": "display_data",
          "data": {
            "image/png": "[encoded data removed]",
            "text/plain": [
              "<Figure size 1080x540 with 1 Axes>"
            ]
          },
          "metadata": {
            "tags": [],
            "needs_background": "light"
          }
        },
        {
          "output_type": "display_data",
          "data": {
            "image/png": "[encoded data removed]",
            "text/plain": [
              "<Figure size 1080x540 with 1 Axes>"
            ]
          },
          "metadata": {
            "tags": [],
            "needs_background": "light"
          }
        }
      ]
    },
    {
      "cell_type": "code",
      "metadata": {
        "colab": {
          "base_uri": "https://localhost:8080/",
          "height": 955
        },
        "id": "T9HI05bJ5OOI",
        "outputId": "afdd2095-a09d-439a-ce8f-33bab9db5961"
      },
      "source": [
        "# Passenger Class Distribution\n",
        "plt.figure(figsize=(15,7.5))\n",
        "plt.subplot(1,2,1)\n",
        "dataframe[dataframe.Survived==1].Pclass.value_counts().plot(kind = 'barh')\n",
        "plt.title(\"Passenger Class Distribution of the Survived passengers\")\n",
        "plt.xlabel(\"Head Count\")\n",
        "plt.ylabel(\"Passenger Class\")\n",
        "plt.show()\n",
        "\n",
        "plt.figure(figsize=(15,7.5))\n",
        "plt.subplot(1,2,2)\n",
        "dataframe[dataframe.Survived==0].Pclass.value_counts().plot(kind = 'barh')\n",
        "plt.title(\"Passenger Class Distribution of the Dead passengers\")\n",
        "plt.xlabel(\"Head Count\")\n",
        "plt.ylabel(\"Passenger Class\")\n",
        "plt.show()"
      ],
      "execution_count": null,
      "outputs": [
        {
          "output_type": "display_data",
          "data": {
            "image/png": "[encoded data removed]",
            "text/plain": [
              "<Figure size 1080x540 with 1 Axes>"
            ]
          },
          "metadata": {
            "tags": [],
            "needs_background": "light"
          }
        },
        {
          "output_type": "display_data",
          "data": {
            "image/png": "[encoded data removed]",
            "text/plain": [
              "<Figure size 1080x540 with 1 Axes>"
            ]
          },
          "metadata": {
            "tags": [],
            "needs_background": "light"
          }
        }
      ]
    },
    {
      "cell_type": "code",
      "metadata": {
        "colab": {
          "base_uri": "https://localhost:8080/",
          "height": 955
        },
        "id": "WpGSUABa5f5C",
        "outputId": "001f3dfb-e8b8-446b-8aff-1720d48c1c0c"
      },
      "source": [
        "# Sibling or Spouse for the passengers\n",
        "plt.figure(figsize=(15,7.5))\n",
        "plt.subplot(1,2,1)\n",
        "dataframe[dataframe.Survived==1].SibSp.value_counts().plot(kind = 'barh')\n",
        "plt.title(\"Sibling or Spouse count Distribution of the Survived passengers\")\n",
        "plt.xlabel(\"Head count\")\n",
        "plt.ylabel(\"Sibiling or Spouse count\")\n",
        "plt.show()\n",
        "\n",
        "plt.figure(figsize=(15,7.5))\n",
        "plt.subplot(1,2,2)\n",
        "dataframe[dataframe.Survived==0].SibSp.value_counts().plot(kind = 'barh')\n",
        "plt.title(\"Sibling or Spouse count Distribution of the Dead passengers\")\n",
        "plt.xlabel(\"Head count\")\n",
        "plt.ylabel(\"Sibiling or Spouse count\")\n",
        "plt.show()"
      ],
      "execution_count": null,
      "outputs": [
        {
          "output_type": "display_data",
          "data": {
            "image/png": "[encoded data removed]",
            "text/plain": [
              "<Figure size 1080x540 with 1 Axes>"
            ]
          },
          "metadata": {
            "tags": [],
            "needs_background": "light"
          }
        },
        {
          "output_type": "display_data",
          "data": {
            "image/png": "[encoded data removed]",
            "text/plain": [
              "<Figure size 1080x540 with 1 Axes>"
            ]
          },
          "metadata": {
            "tags": [],
            "needs_background": "light"
          }
        }
      ]
    },
    {
      "cell_type": "markdown",
      "metadata": {
        "id": "lQlU-qxssrxC"
      },
      "source": [
        "###Data Cleaning\n",
        "\n",
        "This is used to clean the data set that we have to **deal with** all the missing values based on their importance to predict the data. \n",
        "\n",
        "Why Deal with?\n",
        "\n",
        "* Sometimes the column with a **large amount of unknown data** might have more weightage over the result than other columns so we can't remove the column so instead we calculate the mean, median based on the type of data. \n",
        "* But sometimes we can simply eliminate that column When the number of **missing data is less** we can opt for removing the column but if the data set is really small or if the type of data (Classification) is small then we must do a mean or median to fill the remaining data."
      ]
    },
    {
      "cell_type": "code",
      "metadata": {
        "colab": {
          "base_uri": "https://localhost:8080/"
        },
        "id": "oXA-lzlyPIiC",
        "outputId": "de06c3d0-cb5a-45c8-b0f8-94d5b18efd76"
      },
      "source": [
        "# CSV has been loaded in the dataframe table\n",
        "dataframe = pd.read_csv('train.csv')\n",
        "dataframe.pop('PassengerId')\n",
        "dataframe.describe()\n",
        "#print(dataframe.head())\n",
        "#print(dataframe['Cabin'].isna().sum())\n",
        "dataframe.pop('Name')\n",
        "dataframe.pop('Cabin')\n",
        "dataframe.pop('Ticket')\n",
        "#print(dataframe['Age'].isna().sum())\n",
        "dataframe['Age'] = dataframe['Age'] * 365\n",
        "#print(dataframe['Age'].head())\n",
        "#print(dataframe.columns)\n",
        "catagorical_columns=['Sex', 'Embarked']\n",
        "numerical_columns = ['Pclass','Age','SibSp','Parch','Fare']\n",
        "dataframe['Age'].fillna(dataframe['Age'].median(), inplace=True)\n",
        "dataframe.dropna(inplace=True)\n",
        "print(dataframe.describe)\n",
        "feature_columns=[]\n",
        "dataframe.dropna()\n",
        "for feature_name in catagorical_columns:\n",
        "  vocabulary = dataframe[feature_name].unique() #gets all the unique values in the column\n",
        "  feature_columns.append(tf.feature_column.categorical_column_with_vocabulary_list(feature_name, vocabulary))\n",
        "for feature_name in numerical_columns:\n",
        "  feature_columns.append(tf.feature_column.numeric_column(feature_name))\n",
        "print(feature_columns)\n",
        "# from sklearn.preprocessing import OneHotEncoder\n",
        "# from sklearn.compose import ColumnTransformer\n",
        "# ct = ColumnTransformer(transformers=[('encoder', OneHotEncoder(), [1])],remainder='passthrough')\n",
        "# label = dataframe.pop('Survived')\n",
        "# feature_matrix = dataframe\n",
        "# feature_matrix = np.array(ct.fit_transform(feature_matrix))\n",
        "#print(feature_matrix)"
      ],
      "execution_count": null,
      "outputs": [
        {
          "output_type": "stream",
          "text": [
            "<bound method NDFrame.describe of      Survived  Pclass     Sex      Age  SibSp  Parch     Fare Embarked\n",
            "0           0       3    male   8030.0      1      0   7.2500        S\n",
            "1           1       1  female  13870.0      1      0  71.2833        C\n",
            "2           1       3  female   9490.0      0      0   7.9250        S\n",
            "3           1       1  female  12775.0      1      0  53.1000        S\n",
            "4           0       3    male  12775.0      0      0   8.0500        S\n",
            "..        ...     ...     ...      ...    ...    ...      ...      ...\n",
            "886         0       2    male   9855.0      0      0  13.0000        S\n",
            "887         1       1  female   6935.0      0      0  30.0000        S\n",
            "888         0       3  female  10220.0      1      2  23.4500        S\n",
            "889         1       1    male   9490.0      0      0  30.0000        C\n",
            "890         0       3    male  11680.0      0      0   7.7500        Q\n",
            "\n",
            "[889 rows x 8 columns]>\n",
            "[VocabularyListCategoricalColumn(key='Sex', vocabulary_list=('male', 'female'), dtype=tf.string, default_value=-1, num_oov_buckets=0), VocabularyListCategoricalColumn(key='Embarked', vocabulary_list=('S', 'C', 'Q'), dtype=tf.string, default_value=-1, num_oov_buckets=0), NumericColumn(key='Pclass', shape=(1,), default_value=None, dtype=tf.float32, normalizer_fn=None), NumericColumn(key='Age', shape=(1,), default_value=None, dtype=tf.float32, normalizer_fn=None), NumericColumn(key='SibSp', shape=(1,), default_value=None, dtype=tf.float32, normalizer_fn=None), NumericColumn(key='Parch', shape=(1,), default_value=None, dtype=tf.float32, normalizer_fn=None), NumericColumn(key='Fare', shape=(1,), default_value=None, dtype=tf.float32, normalizer_fn=None)]\n"
          ],
          "name": "stdout"
        }
      ]
    },
    {
      "cell_type": "markdown",
      "metadata": {
        "id": "n9Om2pfyIFAU"
      },
      "source": [
        "###Short Summary of what was done above\n",
        "* In the above dataframe the Passenger Id, Name and ticket were removed because they are irrelevant and do not affect the result.\n",
        "* The Cabin column was removed because there were around 600+ missing values.\n",
        "* The Age was converted into units of days because of the fractional values present for the babies on board and the missing values were filled up with the median value of the ages.\n",
        "* We used tensor flow to encode categorical data and following that in the comment section is where we use scikit learn to encode catagorical data\n"
      ]
    }
  ]
}